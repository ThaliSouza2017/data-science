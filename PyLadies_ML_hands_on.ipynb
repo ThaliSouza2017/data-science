{
  "nbformat": 4,
  "nbformat_minor": 0,
  "metadata": {
    "colab": {
      "name": "PyLadies ML - hands-on.ipynb",
      "version": "0.3.2",
      "provenance": [],
      "include_colab_link": true
    },
    "kernelspec": {
      "name": "python3",
      "display_name": "Python 3"
    }
  },
  "cells": [
    {
      "cell_type": "markdown",
      "metadata": {
        "id": "view-in-github",
        "colab_type": "text"
      },
      "source": [
        "<a href=\"https://colab.research.google.com/github/ThaliSouza2017/data-science/blob/master/PyLadies_ML_hands_on.ipynb\" target=\"_parent\"><img src=\"https://colab.research.google.com/assets/colab-badge.svg\" alt=\"Open In Colab\"/></a>"
      ]
    },
    {
      "cell_type": "markdown",
      "metadata": {
        "id": "-mDwbDp02q3B",
        "colab_type": "text"
      },
      "source": [
        "# **WORKSHOP INTRODUÇÃO À MACHINE LEARNING**\n",
        "\n",
        "**Autoria**: Lilianne M. I. Nakazono | **Organização**: Pyladies SP | **Local**: FIAP Paulista <br>\n",
        "\n",
        "\n",
        "---\n",
        "\n",
        "Neste arquivo vocês irão botar em prática tudo o que aprenderam. \n",
        "Usem o tutorial.ipynb como material de consulta :)"
      ]
    },
    {
      "cell_type": "markdown",
      "metadata": {
        "id": "neDdWlDu2S8U",
        "colab_type": "text"
      },
      "source": [
        "# 1. Bibliotecas"
      ]
    },
    {
      "cell_type": "code",
      "metadata": {
        "id": "A8ROAAu82TOR",
        "colab_type": "code",
        "colab": {}
      },
      "source": [
        "# Importando bibliotecas:\n",
        "import matplotlib.pyplot as plt\n",
        "from sklearn.metrics import confusion_matrix\n",
        "from sklearn import datasets\n",
        "import pandas as pd\n",
        "import numpy as np\n",
        "import matplotlib.pyplot as plt \n",
        "import seaborn as sns\n",
        "from sklearn.model_selection import train_test_split\n",
        "from sklearn.svm import SVC\n",
        "from sklearn.ensemble import RandomForestClassifier\n",
        "from sklearn.neighbors import KNeighborsClassifier\n",
        "from sklearn.tree import DecisionTreeClassifier\n",
        "from sklearn.metrics import confusion_matrix\n",
        "import itertools\n",
        "from sklearn import metrics"
      ],
      "execution_count": 0,
      "outputs": []
    },
    {
      "cell_type": "markdown",
      "metadata": {
        "id": "GAl7OlN92WlL",
        "colab_type": "text"
      },
      "source": [
        "# 2. Funções"
      ]
    },
    {
      "cell_type": "code",
      "metadata": {
        "id": "QdA5izjA2WxF",
        "colab_type": "code",
        "colab": {}
      },
      "source": [
        "# Definindo funções:\n",
        "def plot_confusion_matrix(cm, classes,\n",
        "                          normalize=False,\n",
        "                          title='Confusion matrix',\n",
        "                          cmap=plt.cm.Blues):\n",
        "    \"\"\"\n",
        "    This function prints and plots the confusion matrix.\n",
        "    Normalization can be applied by setting `normalize=True`.\n",
        "    \"\"\"\n",
        "    if normalize:\n",
        "        cm = cm.astype('float') / cm.sum(axis=1)[:, np.newaxis]\n",
        "        print(\"Normalized confusion matrix\")\n",
        "    else:\n",
        "        print('Confusion matrix, without normalization')\n",
        "\n",
        "    plt.imshow(cm, interpolation='nearest', cmap=cmap)\n",
        "    plt.title(title)\n",
        "    plt.colorbar()\n",
        "    tick_marks = np.arange(len(classes))\n",
        "    plt.xticks(tick_marks, classes, rotation=45)\n",
        "    plt.yticks(tick_marks, classes)\n",
        "\n",
        "    fmt = '.3f' if normalize else 'd'\n",
        "    thresh = cm.max() / 2.\n",
        "    for i, j in itertools.product(range(cm.shape[0]), range(cm.shape[1])):\n",
        "        plt.text(j, i, format(cm[i, j], fmt),\n",
        "                 horizontalalignment=\"center\",\n",
        "                 color=\"white\" if cm[i, j] > thresh else \"black\")\n",
        "\n",
        "    plt.ylabel('True label')\n",
        "    plt.xlabel('Predicted label')\n",
        "    plt.tight_layout()"
      ],
      "execution_count": 0,
      "outputs": []
    },
    {
      "cell_type": "markdown",
      "metadata": {
        "id": "u6l1pDSh2a_u",
        "colab_type": "text"
      },
      "source": [
        "# 3. Leitura de dados"
      ]
    },
    {
      "cell_type": "markdown",
      "metadata": {
        "id": "m0fMnUxs2gvr",
        "colab_type": "text"
      },
      "source": [
        "## Star/Galaxy dataset"
      ]
    },
    {
      "cell_type": "code",
      "metadata": {
        "id": "ZxwjRVgf2bKk",
        "colab_type": "code",
        "colab": {}
      },
      "source": [
        "url = 'https://raw.githubusercontent.com/marixko/'\n",
        "file = 'tutorial_classifiers/master/tutorial_data.txt'\n",
        "data = pd.read_csv(url+file, delim_whitespace=True, low_memory=False)"
      ],
      "execution_count": 0,
      "outputs": []
    },
    {
      "cell_type": "code",
      "metadata": {
        "id": "o8JkYDFbBr4v",
        "colab_type": "code",
        "outputId": "6381b995-3ab7-481a-b594-a4485e86d228",
        "colab": {
          "base_uri": "https://localhost:8080/",
          "height": 301
        }
      },
      "source": [
        "#cabeçalho do dataset\n",
        "data.head()\n"
      ],
      "execution_count": 0,
      "outputs": [
        {
          "output_type": "execute_result",
          "data": {
            "text/html": [
              "<div>\n",
              "<style scoped>\n",
              "    .dataframe tbody tr th:only-of-type {\n",
              "        vertical-align: middle;\n",
              "    }\n",
              "\n",
              "    .dataframe tbody tr th {\n",
              "        vertical-align: top;\n",
              "    }\n",
              "\n",
              "    .dataframe thead th {\n",
              "        text-align: right;\n",
              "    }\n",
              "</style>\n",
              "<table border=\"1\" class=\"dataframe\">\n",
              "  <thead>\n",
              "    <tr style=\"text-align: right;\">\n",
              "      <th></th>\n",
              "      <th>FIELD</th>\n",
              "      <th>ID</th>\n",
              "      <th>RA_1</th>\n",
              "      <th>Dec_1</th>\n",
              "      <th>FWHM_n</th>\n",
              "      <th>A</th>\n",
              "      <th>B</th>\n",
              "      <th>KrRadDet</th>\n",
              "      <th>uJAVA_auto</th>\n",
              "      <th>F378_auto</th>\n",
              "      <th>F395_auto</th>\n",
              "      <th>F410_auto</th>\n",
              "      <th>F430_auto</th>\n",
              "      <th>g_auto</th>\n",
              "      <th>F515_auto</th>\n",
              "      <th>r_auto</th>\n",
              "      <th>F660_auto</th>\n",
              "      <th>i_auto</th>\n",
              "      <th>F861_auto</th>\n",
              "      <th>z_auto</th>\n",
              "      <th>class</th>\n",
              "    </tr>\n",
              "  </thead>\n",
              "  <tbody>\n",
              "    <tr>\n",
              "      <th>0</th>\n",
              "      <td>STRIPE82-0125</td>\n",
              "      <td>SPLUS.STRIPE82-0125.12220.griz</td>\n",
              "      <td>327.0204</td>\n",
              "      <td>-1.0042</td>\n",
              "      <td>2.64</td>\n",
              "      <td>3.08</td>\n",
              "      <td>2.40</td>\n",
              "      <td>1.39</td>\n",
              "      <td>19.89</td>\n",
              "      <td>19.78</td>\n",
              "      <td>19.89</td>\n",
              "      <td>19.40</td>\n",
              "      <td>18.96</td>\n",
              "      <td>18.60</td>\n",
              "      <td>18.23</td>\n",
              "      <td>17.80</td>\n",
              "      <td>17.65</td>\n",
              "      <td>17.36</td>\n",
              "      <td>17.23</td>\n",
              "      <td>17.16</td>\n",
              "      <td>GALAXY</td>\n",
              "    </tr>\n",
              "    <tr>\n",
              "      <th>1</th>\n",
              "      <td>STRIPE82-0130</td>\n",
              "      <td>SPLUS.STRIPE82-0130.19857.griz</td>\n",
              "      <td>329.8803</td>\n",
              "      <td>1.2223</td>\n",
              "      <td>2.19</td>\n",
              "      <td>4.50</td>\n",
              "      <td>4.30</td>\n",
              "      <td>1.31</td>\n",
              "      <td>18.66</td>\n",
              "      <td>18.56</td>\n",
              "      <td>18.28</td>\n",
              "      <td>17.96</td>\n",
              "      <td>17.86</td>\n",
              "      <td>17.40</td>\n",
              "      <td>17.14</td>\n",
              "      <td>16.73</td>\n",
              "      <td>16.69</td>\n",
              "      <td>16.43</td>\n",
              "      <td>16.38</td>\n",
              "      <td>16.20</td>\n",
              "      <td>GALAXY</td>\n",
              "    </tr>\n",
              "    <tr>\n",
              "      <th>2</th>\n",
              "      <td>STRIPE82-0051</td>\n",
              "      <td>SPLUS.STRIPE82-0051.30304.griz</td>\n",
              "      <td>35.6271</td>\n",
              "      <td>0.0222</td>\n",
              "      <td>2.13</td>\n",
              "      <td>2.79</td>\n",
              "      <td>2.70</td>\n",
              "      <td>1.74</td>\n",
              "      <td>20.56</td>\n",
              "      <td>20.64</td>\n",
              "      <td>20.29</td>\n",
              "      <td>20.71</td>\n",
              "      <td>20.39</td>\n",
              "      <td>20.10</td>\n",
              "      <td>19.68</td>\n",
              "      <td>19.21</td>\n",
              "      <td>19.06</td>\n",
              "      <td>18.81</td>\n",
              "      <td>18.51</td>\n",
              "      <td>18.62</td>\n",
              "      <td>GALAXY</td>\n",
              "    </tr>\n",
              "    <tr>\n",
              "      <th>3</th>\n",
              "      <td>STRIPE82-0032</td>\n",
              "      <td>SPLUS.STRIPE82-0032.20205.griz</td>\n",
              "      <td>21.8005</td>\n",
              "      <td>1.1796</td>\n",
              "      <td>2.33</td>\n",
              "      <td>4.29</td>\n",
              "      <td>2.48</td>\n",
              "      <td>1.48</td>\n",
              "      <td>20.59</td>\n",
              "      <td>20.81</td>\n",
              "      <td>20.66</td>\n",
              "      <td>19.75</td>\n",
              "      <td>19.66</td>\n",
              "      <td>18.86</td>\n",
              "      <td>18.57</td>\n",
              "      <td>18.03</td>\n",
              "      <td>17.88</td>\n",
              "      <td>17.59</td>\n",
              "      <td>17.30</td>\n",
              "      <td>17.32</td>\n",
              "      <td>GALAXY</td>\n",
              "    </tr>\n",
              "    <tr>\n",
              "      <th>4</th>\n",
              "      <td>STRIPE82-0003</td>\n",
              "      <td>SPLUS.STRIPE82-0003.17514.griz</td>\n",
              "      <td>0.7698</td>\n",
              "      <td>-0.0778</td>\n",
              "      <td>1.96</td>\n",
              "      <td>2.58</td>\n",
              "      <td>2.52</td>\n",
              "      <td>1.42</td>\n",
              "      <td>20.95</td>\n",
              "      <td>20.39</td>\n",
              "      <td>20.07</td>\n",
              "      <td>20.07</td>\n",
              "      <td>20.27</td>\n",
              "      <td>19.64</td>\n",
              "      <td>19.43</td>\n",
              "      <td>18.99</td>\n",
              "      <td>18.90</td>\n",
              "      <td>18.66</td>\n",
              "      <td>18.79</td>\n",
              "      <td>18.57</td>\n",
              "      <td>GALAXY</td>\n",
              "    </tr>\n",
              "  </tbody>\n",
              "</table>\n",
              "</div>"
            ],
            "text/plain": [
              "           FIELD                              ID  ...  z_auto   class\n",
              "0  STRIPE82-0125  SPLUS.STRIPE82-0125.12220.griz  ...   17.16  GALAXY\n",
              "1  STRIPE82-0130  SPLUS.STRIPE82-0130.19857.griz  ...   16.20  GALAXY\n",
              "2  STRIPE82-0051  SPLUS.STRIPE82-0051.30304.griz  ...   18.62  GALAXY\n",
              "3  STRIPE82-0032  SPLUS.STRIPE82-0032.20205.griz  ...   17.32  GALAXY\n",
              "4  STRIPE82-0003  SPLUS.STRIPE82-0003.17514.griz  ...   18.57  GALAXY\n",
              "\n",
              "[5 rows x 21 columns]"
            ]
          },
          "metadata": {
            "tags": []
          },
          "execution_count": 10
        }
      ]
    },
    {
      "cell_type": "code",
      "metadata": {
        "id": "MPhDAbcbNi2i",
        "colab_type": "code",
        "outputId": "7b9c4ed3-424c-47c8-dd5b-be7e8d3f00c1",
        "colab": {
          "base_uri": "https://localhost:8080/",
          "height": 307
        }
      },
      "source": [
        "data.describe()"
      ],
      "execution_count": 0,
      "outputs": [
        {
          "output_type": "execute_result",
          "data": {
            "text/html": [
              "<div>\n",
              "<style scoped>\n",
              "    .dataframe tbody tr th:only-of-type {\n",
              "        vertical-align: middle;\n",
              "    }\n",
              "\n",
              "    .dataframe tbody tr th {\n",
              "        vertical-align: top;\n",
              "    }\n",
              "\n",
              "    .dataframe thead th {\n",
              "        text-align: right;\n",
              "    }\n",
              "</style>\n",
              "<table border=\"1\" class=\"dataframe\">\n",
              "  <thead>\n",
              "    <tr style=\"text-align: right;\">\n",
              "      <th></th>\n",
              "      <th>RA_1</th>\n",
              "      <th>Dec_1</th>\n",
              "      <th>FWHM_n</th>\n",
              "      <th>A</th>\n",
              "      <th>B</th>\n",
              "      <th>KrRadDet</th>\n",
              "      <th>uJAVA_auto</th>\n",
              "      <th>F378_auto</th>\n",
              "      <th>F395_auto</th>\n",
              "      <th>F410_auto</th>\n",
              "      <th>F430_auto</th>\n",
              "      <th>g_auto</th>\n",
              "      <th>F515_auto</th>\n",
              "      <th>r_auto</th>\n",
              "      <th>F660_auto</th>\n",
              "      <th>i_auto</th>\n",
              "      <th>F861_auto</th>\n",
              "      <th>z_auto</th>\n",
              "    </tr>\n",
              "  </thead>\n",
              "  <tbody>\n",
              "    <tr>\n",
              "      <th>count</th>\n",
              "      <td>10000.000000</td>\n",
              "      <td>10000.000000</td>\n",
              "      <td>10000.000000</td>\n",
              "      <td>10000.000000</td>\n",
              "      <td>10000.000000</td>\n",
              "      <td>10000.000000</td>\n",
              "      <td>10000.000000</td>\n",
              "      <td>10000.000000</td>\n",
              "      <td>10000.000000</td>\n",
              "      <td>10000.000000</td>\n",
              "      <td>10000.000000</td>\n",
              "      <td>10000.000000</td>\n",
              "      <td>10000.000000</td>\n",
              "      <td>10000.000000</td>\n",
              "      <td>10000.000000</td>\n",
              "      <td>10000.000000</td>\n",
              "      <td>10000.000000</td>\n",
              "      <td>10000.000000</td>\n",
              "    </tr>\n",
              "    <tr>\n",
              "      <th>mean</th>\n",
              "      <td>129.719136</td>\n",
              "      <td>0.010390</td>\n",
              "      <td>2.061588</td>\n",
              "      <td>3.217486</td>\n",
              "      <td>2.519372</td>\n",
              "      <td>1.256825</td>\n",
              "      <td>19.871637</td>\n",
              "      <td>19.629044</td>\n",
              "      <td>19.429581</td>\n",
              "      <td>19.020656</td>\n",
              "      <td>18.814913</td>\n",
              "      <td>18.336814</td>\n",
              "      <td>18.115132</td>\n",
              "      <td>17.650745</td>\n",
              "      <td>17.549011</td>\n",
              "      <td>17.335909</td>\n",
              "      <td>17.229558</td>\n",
              "      <td>17.200780</td>\n",
              "    </tr>\n",
              "    <tr>\n",
              "      <th>std</th>\n",
              "      <td>145.851241</td>\n",
              "      <td>0.710612</td>\n",
              "      <td>1.496810</td>\n",
              "      <td>1.478986</td>\n",
              "      <td>0.755782</td>\n",
              "      <td>0.211298</td>\n",
              "      <td>1.081690</td>\n",
              "      <td>1.095591</td>\n",
              "      <td>1.064838</td>\n",
              "      <td>1.108691</td>\n",
              "      <td>1.071117</td>\n",
              "      <td>1.023211</td>\n",
              "      <td>0.999061</td>\n",
              "      <td>1.016020</td>\n",
              "      <td>1.014573</td>\n",
              "      <td>1.010052</td>\n",
              "      <td>1.010399</td>\n",
              "      <td>1.012212</td>\n",
              "    </tr>\n",
              "    <tr>\n",
              "      <th>min</th>\n",
              "      <td>0.000700</td>\n",
              "      <td>-1.229500</td>\n",
              "      <td>0.780000</td>\n",
              "      <td>1.440000</td>\n",
              "      <td>1.360000</td>\n",
              "      <td>1.000000</td>\n",
              "      <td>15.750000</td>\n",
              "      <td>15.240000</td>\n",
              "      <td>14.720000</td>\n",
              "      <td>14.520000</td>\n",
              "      <td>14.520000</td>\n",
              "      <td>14.510000</td>\n",
              "      <td>14.380000</td>\n",
              "      <td>14.040000</td>\n",
              "      <td>13.980000</td>\n",
              "      <td>13.900000</td>\n",
              "      <td>13.780000</td>\n",
              "      <td>13.530000</td>\n",
              "    </tr>\n",
              "    <tr>\n",
              "      <th>25%</th>\n",
              "      <td>18.907500</td>\n",
              "      <td>-0.600375</td>\n",
              "      <td>1.000000</td>\n",
              "      <td>2.190000</td>\n",
              "      <td>2.020000</td>\n",
              "      <td>1.060000</td>\n",
              "      <td>19.230000</td>\n",
              "      <td>18.980000</td>\n",
              "      <td>18.810000</td>\n",
              "      <td>18.350000</td>\n",
              "      <td>18.170000</td>\n",
              "      <td>17.730000</td>\n",
              "      <td>17.530000</td>\n",
              "      <td>17.020000</td>\n",
              "      <td>16.900000</td>\n",
              "      <td>16.680000</td>\n",
              "      <td>16.590000</td>\n",
              "      <td>16.550000</td>\n",
              "    </tr>\n",
              "    <tr>\n",
              "      <th>50%</th>\n",
              "      <td>41.673550</td>\n",
              "      <td>0.006850</td>\n",
              "      <td>1.380000</td>\n",
              "      <td>2.700000</td>\n",
              "      <td>2.340000</td>\n",
              "      <td>1.240000</td>\n",
              "      <td>20.000000</td>\n",
              "      <td>19.780000</td>\n",
              "      <td>19.600000</td>\n",
              "      <td>19.220000</td>\n",
              "      <td>18.980000</td>\n",
              "      <td>18.500000</td>\n",
              "      <td>18.270000</td>\n",
              "      <td>17.780000</td>\n",
              "      <td>17.670000</td>\n",
              "      <td>17.460000</td>\n",
              "      <td>17.340000</td>\n",
              "      <td>17.310000</td>\n",
              "    </tr>\n",
              "    <tr>\n",
              "      <th>75%</th>\n",
              "      <td>323.552600</td>\n",
              "      <td>0.621700</td>\n",
              "      <td>2.780000</td>\n",
              "      <td>3.900000</td>\n",
              "      <td>2.810000</td>\n",
              "      <td>1.420000</td>\n",
              "      <td>20.630000</td>\n",
              "      <td>20.400000</td>\n",
              "      <td>20.190000</td>\n",
              "      <td>19.840000</td>\n",
              "      <td>19.610000</td>\n",
              "      <td>19.080000</td>\n",
              "      <td>18.830000</td>\n",
              "      <td>18.390000</td>\n",
              "      <td>18.280000</td>\n",
              "      <td>18.060000</td>\n",
              "      <td>17.960000</td>\n",
              "      <td>17.930000</td>\n",
              "    </tr>\n",
              "    <tr>\n",
              "      <th>max</th>\n",
              "      <td>359.983900</td>\n",
              "      <td>1.259900</td>\n",
              "      <td>18.600000</td>\n",
              "      <td>25.570000</td>\n",
              "      <td>10.270000</td>\n",
              "      <td>2.430000</td>\n",
              "      <td>22.650000</td>\n",
              "      <td>22.730000</td>\n",
              "      <td>21.980000</td>\n",
              "      <td>21.840000</td>\n",
              "      <td>21.610000</td>\n",
              "      <td>21.440000</td>\n",
              "      <td>21.460000</td>\n",
              "      <td>20.720000</td>\n",
              "      <td>20.670000</td>\n",
              "      <td>20.280000</td>\n",
              "      <td>20.180000</td>\n",
              "      <td>20.120000</td>\n",
              "    </tr>\n",
              "  </tbody>\n",
              "</table>\n",
              "</div>"
            ],
            "text/plain": [
              "               RA_1         Dec_1  ...     F861_auto        z_auto\n",
              "count  10000.000000  10000.000000  ...  10000.000000  10000.000000\n",
              "mean     129.719136      0.010390  ...     17.229558     17.200780\n",
              "std      145.851241      0.710612  ...      1.010399      1.012212\n",
              "min        0.000700     -1.229500  ...     13.780000     13.530000\n",
              "25%       18.907500     -0.600375  ...     16.590000     16.550000\n",
              "50%       41.673550      0.006850  ...     17.340000     17.310000\n",
              "75%      323.552600      0.621700  ...     17.960000     17.930000\n",
              "max      359.983900      1.259900  ...     20.180000     20.120000\n",
              "\n",
              "[8 rows x 18 columns]"
            ]
          },
          "metadata": {
            "tags": []
          },
          "execution_count": 6
        }
      ]
    },
    {
      "cell_type": "code",
      "metadata": {
        "id": "X4t3teGbOECx",
        "colab_type": "code",
        "outputId": "28b6d44d-d0cc-429c-fb99-cabdf686dbfa",
        "colab": {
          "base_uri": "https://localhost:8080/",
          "height": 587
        }
      },
      "source": [
        "data.describe().T"
      ],
      "execution_count": 0,
      "outputs": [
        {
          "output_type": "execute_result",
          "data": {
            "text/html": [
              "<div>\n",
              "<style scoped>\n",
              "    .dataframe tbody tr th:only-of-type {\n",
              "        vertical-align: middle;\n",
              "    }\n",
              "\n",
              "    .dataframe tbody tr th {\n",
              "        vertical-align: top;\n",
              "    }\n",
              "\n",
              "    .dataframe thead th {\n",
              "        text-align: right;\n",
              "    }\n",
              "</style>\n",
              "<table border=\"1\" class=\"dataframe\">\n",
              "  <thead>\n",
              "    <tr style=\"text-align: right;\">\n",
              "      <th></th>\n",
              "      <th>count</th>\n",
              "      <th>mean</th>\n",
              "      <th>std</th>\n",
              "      <th>min</th>\n",
              "      <th>25%</th>\n",
              "      <th>50%</th>\n",
              "      <th>75%</th>\n",
              "      <th>max</th>\n",
              "    </tr>\n",
              "  </thead>\n",
              "  <tbody>\n",
              "    <tr>\n",
              "      <th>RA_1</th>\n",
              "      <td>10000.0</td>\n",
              "      <td>129.719136</td>\n",
              "      <td>145.851241</td>\n",
              "      <td>0.0007</td>\n",
              "      <td>18.907500</td>\n",
              "      <td>41.67355</td>\n",
              "      <td>323.5526</td>\n",
              "      <td>359.9839</td>\n",
              "    </tr>\n",
              "    <tr>\n",
              "      <th>Dec_1</th>\n",
              "      <td>10000.0</td>\n",
              "      <td>0.010390</td>\n",
              "      <td>0.710612</td>\n",
              "      <td>-1.2295</td>\n",
              "      <td>-0.600375</td>\n",
              "      <td>0.00685</td>\n",
              "      <td>0.6217</td>\n",
              "      <td>1.2599</td>\n",
              "    </tr>\n",
              "    <tr>\n",
              "      <th>FWHM_n</th>\n",
              "      <td>10000.0</td>\n",
              "      <td>2.061588</td>\n",
              "      <td>1.496810</td>\n",
              "      <td>0.7800</td>\n",
              "      <td>1.000000</td>\n",
              "      <td>1.38000</td>\n",
              "      <td>2.7800</td>\n",
              "      <td>18.6000</td>\n",
              "    </tr>\n",
              "    <tr>\n",
              "      <th>A</th>\n",
              "      <td>10000.0</td>\n",
              "      <td>3.217486</td>\n",
              "      <td>1.478986</td>\n",
              "      <td>1.4400</td>\n",
              "      <td>2.190000</td>\n",
              "      <td>2.70000</td>\n",
              "      <td>3.9000</td>\n",
              "      <td>25.5700</td>\n",
              "    </tr>\n",
              "    <tr>\n",
              "      <th>B</th>\n",
              "      <td>10000.0</td>\n",
              "      <td>2.519372</td>\n",
              "      <td>0.755782</td>\n",
              "      <td>1.3600</td>\n",
              "      <td>2.020000</td>\n",
              "      <td>2.34000</td>\n",
              "      <td>2.8100</td>\n",
              "      <td>10.2700</td>\n",
              "    </tr>\n",
              "    <tr>\n",
              "      <th>KrRadDet</th>\n",
              "      <td>10000.0</td>\n",
              "      <td>1.256825</td>\n",
              "      <td>0.211298</td>\n",
              "      <td>1.0000</td>\n",
              "      <td>1.060000</td>\n",
              "      <td>1.24000</td>\n",
              "      <td>1.4200</td>\n",
              "      <td>2.4300</td>\n",
              "    </tr>\n",
              "    <tr>\n",
              "      <th>uJAVA_auto</th>\n",
              "      <td>10000.0</td>\n",
              "      <td>19.871637</td>\n",
              "      <td>1.081690</td>\n",
              "      <td>15.7500</td>\n",
              "      <td>19.230000</td>\n",
              "      <td>20.00000</td>\n",
              "      <td>20.6300</td>\n",
              "      <td>22.6500</td>\n",
              "    </tr>\n",
              "    <tr>\n",
              "      <th>F378_auto</th>\n",
              "      <td>10000.0</td>\n",
              "      <td>19.629044</td>\n",
              "      <td>1.095591</td>\n",
              "      <td>15.2400</td>\n",
              "      <td>18.980000</td>\n",
              "      <td>19.78000</td>\n",
              "      <td>20.4000</td>\n",
              "      <td>22.7300</td>\n",
              "    </tr>\n",
              "    <tr>\n",
              "      <th>F395_auto</th>\n",
              "      <td>10000.0</td>\n",
              "      <td>19.429581</td>\n",
              "      <td>1.064838</td>\n",
              "      <td>14.7200</td>\n",
              "      <td>18.810000</td>\n",
              "      <td>19.60000</td>\n",
              "      <td>20.1900</td>\n",
              "      <td>21.9800</td>\n",
              "    </tr>\n",
              "    <tr>\n",
              "      <th>F410_auto</th>\n",
              "      <td>10000.0</td>\n",
              "      <td>19.020656</td>\n",
              "      <td>1.108691</td>\n",
              "      <td>14.5200</td>\n",
              "      <td>18.350000</td>\n",
              "      <td>19.22000</td>\n",
              "      <td>19.8400</td>\n",
              "      <td>21.8400</td>\n",
              "    </tr>\n",
              "    <tr>\n",
              "      <th>F430_auto</th>\n",
              "      <td>10000.0</td>\n",
              "      <td>18.814913</td>\n",
              "      <td>1.071117</td>\n",
              "      <td>14.5200</td>\n",
              "      <td>18.170000</td>\n",
              "      <td>18.98000</td>\n",
              "      <td>19.6100</td>\n",
              "      <td>21.6100</td>\n",
              "    </tr>\n",
              "    <tr>\n",
              "      <th>g_auto</th>\n",
              "      <td>10000.0</td>\n",
              "      <td>18.336814</td>\n",
              "      <td>1.023211</td>\n",
              "      <td>14.5100</td>\n",
              "      <td>17.730000</td>\n",
              "      <td>18.50000</td>\n",
              "      <td>19.0800</td>\n",
              "      <td>21.4400</td>\n",
              "    </tr>\n",
              "    <tr>\n",
              "      <th>F515_auto</th>\n",
              "      <td>10000.0</td>\n",
              "      <td>18.115132</td>\n",
              "      <td>0.999061</td>\n",
              "      <td>14.3800</td>\n",
              "      <td>17.530000</td>\n",
              "      <td>18.27000</td>\n",
              "      <td>18.8300</td>\n",
              "      <td>21.4600</td>\n",
              "    </tr>\n",
              "    <tr>\n",
              "      <th>r_auto</th>\n",
              "      <td>10000.0</td>\n",
              "      <td>17.650745</td>\n",
              "      <td>1.016020</td>\n",
              "      <td>14.0400</td>\n",
              "      <td>17.020000</td>\n",
              "      <td>17.78000</td>\n",
              "      <td>18.3900</td>\n",
              "      <td>20.7200</td>\n",
              "    </tr>\n",
              "    <tr>\n",
              "      <th>F660_auto</th>\n",
              "      <td>10000.0</td>\n",
              "      <td>17.549011</td>\n",
              "      <td>1.014573</td>\n",
              "      <td>13.9800</td>\n",
              "      <td>16.900000</td>\n",
              "      <td>17.67000</td>\n",
              "      <td>18.2800</td>\n",
              "      <td>20.6700</td>\n",
              "    </tr>\n",
              "    <tr>\n",
              "      <th>i_auto</th>\n",
              "      <td>10000.0</td>\n",
              "      <td>17.335909</td>\n",
              "      <td>1.010052</td>\n",
              "      <td>13.9000</td>\n",
              "      <td>16.680000</td>\n",
              "      <td>17.46000</td>\n",
              "      <td>18.0600</td>\n",
              "      <td>20.2800</td>\n",
              "    </tr>\n",
              "    <tr>\n",
              "      <th>F861_auto</th>\n",
              "      <td>10000.0</td>\n",
              "      <td>17.229558</td>\n",
              "      <td>1.010399</td>\n",
              "      <td>13.7800</td>\n",
              "      <td>16.590000</td>\n",
              "      <td>17.34000</td>\n",
              "      <td>17.9600</td>\n",
              "      <td>20.1800</td>\n",
              "    </tr>\n",
              "    <tr>\n",
              "      <th>z_auto</th>\n",
              "      <td>10000.0</td>\n",
              "      <td>17.200780</td>\n",
              "      <td>1.012212</td>\n",
              "      <td>13.5300</td>\n",
              "      <td>16.550000</td>\n",
              "      <td>17.31000</td>\n",
              "      <td>17.9300</td>\n",
              "      <td>20.1200</td>\n",
              "    </tr>\n",
              "  </tbody>\n",
              "</table>\n",
              "</div>"
            ],
            "text/plain": [
              "              count        mean         std  ...       50%       75%       max\n",
              "RA_1        10000.0  129.719136  145.851241  ...  41.67355  323.5526  359.9839\n",
              "Dec_1       10000.0    0.010390    0.710612  ...   0.00685    0.6217    1.2599\n",
              "FWHM_n      10000.0    2.061588    1.496810  ...   1.38000    2.7800   18.6000\n",
              "A           10000.0    3.217486    1.478986  ...   2.70000    3.9000   25.5700\n",
              "B           10000.0    2.519372    0.755782  ...   2.34000    2.8100   10.2700\n",
              "KrRadDet    10000.0    1.256825    0.211298  ...   1.24000    1.4200    2.4300\n",
              "uJAVA_auto  10000.0   19.871637    1.081690  ...  20.00000   20.6300   22.6500\n",
              "F378_auto   10000.0   19.629044    1.095591  ...  19.78000   20.4000   22.7300\n",
              "F395_auto   10000.0   19.429581    1.064838  ...  19.60000   20.1900   21.9800\n",
              "F410_auto   10000.0   19.020656    1.108691  ...  19.22000   19.8400   21.8400\n",
              "F430_auto   10000.0   18.814913    1.071117  ...  18.98000   19.6100   21.6100\n",
              "g_auto      10000.0   18.336814    1.023211  ...  18.50000   19.0800   21.4400\n",
              "F515_auto   10000.0   18.115132    0.999061  ...  18.27000   18.8300   21.4600\n",
              "r_auto      10000.0   17.650745    1.016020  ...  17.78000   18.3900   20.7200\n",
              "F660_auto   10000.0   17.549011    1.014573  ...  17.67000   18.2800   20.6700\n",
              "i_auto      10000.0   17.335909    1.010052  ...  17.46000   18.0600   20.2800\n",
              "F861_auto   10000.0   17.229558    1.010399  ...  17.34000   17.9600   20.1800\n",
              "z_auto      10000.0   17.200780    1.012212  ...  17.31000   17.9300   20.1200\n",
              "\n",
              "[18 rows x 8 columns]"
            ]
          },
          "metadata": {
            "tags": []
          },
          "execution_count": 11
        }
      ]
    },
    {
      "cell_type": "code",
      "metadata": {
        "id": "EBtNyZ9SRW-q",
        "colab_type": "code",
        "outputId": "93fae64a-b199-4923-dac9-22ce79c46ba7",
        "colab": {
          "base_uri": "https://localhost:8080/",
          "height": 407
        }
      },
      "source": [
        "data.isna().sum()\n",
        "#iris = iris.dropna()"
      ],
      "execution_count": 0,
      "outputs": [
        {
          "output_type": "execute_result",
          "data": {
            "text/plain": [
              "FIELD         0\n",
              "ID            0\n",
              "RA_1          0\n",
              "Dec_1         0\n",
              "FWHM_n        0\n",
              "A             0\n",
              "B             0\n",
              "KrRadDet      0\n",
              "uJAVA_auto    0\n",
              "F378_auto     0\n",
              "F395_auto     0\n",
              "F410_auto     0\n",
              "F430_auto     0\n",
              "g_auto        0\n",
              "F515_auto     0\n",
              "r_auto        0\n",
              "F660_auto     0\n",
              "i_auto        0\n",
              "F861_auto     0\n",
              "z_auto        0\n",
              "class         0\n",
              "dtype: int64"
            ]
          },
          "metadata": {
            "tags": []
          },
          "execution_count": 27
        }
      ]
    },
    {
      "cell_type": "code",
      "metadata": {
        "id": "6EBw-L4_N2Nv",
        "colab_type": "code",
        "outputId": "fb863cce-cc35-4082-9b64-6f81c7b25fa2",
        "colab": {
          "base_uri": "https://localhost:8080/",
          "height": 390
        }
      },
      "source": [
        "list(data)"
      ],
      "execution_count": 0,
      "outputs": [
        {
          "output_type": "execute_result",
          "data": {
            "text/plain": [
              "['FIELD',\n",
              " 'ID',\n",
              " 'RA_1',\n",
              " 'Dec_1',\n",
              " 'FWHM_n',\n",
              " 'A',\n",
              " 'B',\n",
              " 'KrRadDet',\n",
              " 'uJAVA_auto',\n",
              " 'F378_auto',\n",
              " 'F395_auto',\n",
              " 'F410_auto',\n",
              " 'F430_auto',\n",
              " 'g_auto',\n",
              " 'F515_auto',\n",
              " 'r_auto',\n",
              " 'F660_auto',\n",
              " 'i_auto',\n",
              " 'F861_auto',\n",
              " 'z_auto',\n",
              " 'class']"
            ]
          },
          "metadata": {
            "tags": []
          },
          "execution_count": 8
        }
      ]
    },
    {
      "cell_type": "code",
      "metadata": {
        "id": "fAm058LvOQ4T",
        "colab_type": "code",
        "outputId": "08fdd87d-45e6-484d-b27d-d381d7346a2e",
        "colab": {
          "base_uri": "https://localhost:8080/",
          "height": 407
        }
      },
      "source": [
        "data.dtypes"
      ],
      "execution_count": 0,
      "outputs": [
        {
          "output_type": "execute_result",
          "data": {
            "text/plain": [
              "FIELD          object\n",
              "ID             object\n",
              "RA_1          float64\n",
              "Dec_1         float64\n",
              "FWHM_n        float64\n",
              "A             float64\n",
              "B             float64\n",
              "KrRadDet      float64\n",
              "uJAVA_auto    float64\n",
              "F378_auto     float64\n",
              "F395_auto     float64\n",
              "F410_auto     float64\n",
              "F430_auto     float64\n",
              "g_auto        float64\n",
              "F515_auto     float64\n",
              "r_auto        float64\n",
              "F660_auto     float64\n",
              "i_auto        float64\n",
              "F861_auto     float64\n",
              "z_auto        float64\n",
              "class          object\n",
              "dtype: object"
            ]
          },
          "metadata": {
            "tags": []
          },
          "execution_count": 12
        }
      ]
    },
    {
      "cell_type": "code",
      "metadata": {
        "id": "2Pv1hIrVOc8q",
        "colab_type": "code",
        "outputId": "11a9000b-0cc2-4d96-85d8-f6471804132c",
        "colab": {
          "base_uri": "https://localhost:8080/",
          "height": 281
        }
      },
      "source": [
        "data.hist(bins = 25)\n",
        "plt.show()"
      ],
      "execution_count": 0,
      "outputs": [
        {
          "output_type": "display_data",
          "data": {
            "image/png": "[encoded data removed]",
            "text/plain": [
              "<Figure size 432x288 with 20 Axes>"
            ]
          },
          "metadata": {
            "tags": []
          }
        }
      ]
    },
    {
      "cell_type": "code",
      "metadata": {
        "id": "WtUhGJL5PtFz",
        "colab_type": "code",
        "colab": {}
      },
      "source": [
        "data.info()"
      ],
      "execution_count": 0,
      "outputs": []
    },
    {
      "cell_type": "code",
      "metadata": {
        "id": "TgVbBrm3P4kk",
        "colab_type": "code",
        "outputId": "b96c9387-ab9b-4ee1-eb62-f1a060563131",
        "colab": {
          "base_uri": "https://localhost:8080/",
          "height": 52
        }
      },
      "source": [
        "data[['class']].count()"
      ],
      "execution_count": 0,
      "outputs": [
        {
          "output_type": "execute_result",
          "data": {
            "text/plain": [
              "class    10000\n",
              "dtype: int64"
            ]
          },
          "metadata": {
            "tags": []
          },
          "execution_count": 22
        }
      ]
    },
    {
      "cell_type": "code",
      "metadata": {
        "id": "WtsURcfgQLi9",
        "colab_type": "code",
        "outputId": "4257be2c-8ac8-45d0-d38d-d4ab6b34ea28",
        "colab": {
          "base_uri": "https://localhost:8080/",
          "height": 137
        }
      },
      "source": [
        "data.groupby('class')['FWHM_n', 'A', 'B', 'r_auto'].mean()"
      ],
      "execution_count": 0,
      "outputs": [
        {
          "output_type": "execute_result",
          "data": {
            "text/html": [
              "<div>\n",
              "<style scoped>\n",
              "    .dataframe tbody tr th:only-of-type {\n",
              "        vertical-align: middle;\n",
              "    }\n",
              "\n",
              "    .dataframe tbody tr th {\n",
              "        vertical-align: top;\n",
              "    }\n",
              "\n",
              "    .dataframe thead th {\n",
              "        text-align: right;\n",
              "    }\n",
              "</style>\n",
              "<table border=\"1\" class=\"dataframe\">\n",
              "  <thead>\n",
              "    <tr style=\"text-align: right;\">\n",
              "      <th></th>\n",
              "      <th>FWHM_n</th>\n",
              "      <th>A</th>\n",
              "      <th>B</th>\n",
              "      <th>r_auto</th>\n",
              "    </tr>\n",
              "    <tr>\n",
              "      <th>class</th>\n",
              "      <th></th>\n",
              "      <th></th>\n",
              "      <th></th>\n",
              "      <th></th>\n",
              "    </tr>\n",
              "  </thead>\n",
              "  <tbody>\n",
              "    <tr>\n",
              "      <th>GALAXY</th>\n",
              "      <td>3.096326</td>\n",
              "      <td>4.204862</td>\n",
              "      <td>2.939528</td>\n",
              "      <td>18.179772</td>\n",
              "    </tr>\n",
              "    <tr>\n",
              "      <th>STAR</th>\n",
              "      <td>1.026850</td>\n",
              "      <td>2.230110</td>\n",
              "      <td>2.099216</td>\n",
              "      <td>17.121718</td>\n",
              "    </tr>\n",
              "  </tbody>\n",
              "</table>\n",
              "</div>"
            ],
            "text/plain": [
              "          FWHM_n         A         B     r_auto\n",
              "class                                          \n",
              "GALAXY  3.096326  4.204862  2.939528  18.179772\n",
              "STAR    1.026850  2.230110  2.099216  17.121718"
            ]
          },
          "metadata": {
            "tags": []
          },
          "execution_count": 30
        }
      ]
    },
    {
      "cell_type": "code",
      "metadata": {
        "id": "J4eiJwM5R0GD",
        "colab_type": "code",
        "outputId": "e578bbf8-c6ed-4526-8f9d-693fdb6bf113",
        "colab": {
          "base_uri": "https://localhost:8080/",
          "height": 137
        }
      },
      "source": [
        "data.groupby('class')['FWHM_n', 'A', 'B', 'r_auto'].std()"
      ],
      "execution_count": 0,
      "outputs": [
        {
          "output_type": "execute_result",
          "data": {
            "text/html": [
              "<div>\n",
              "<style scoped>\n",
              "    .dataframe tbody tr th:only-of-type {\n",
              "        vertical-align: middle;\n",
              "    }\n",
              "\n",
              "    .dataframe tbody tr th {\n",
              "        vertical-align: top;\n",
              "    }\n",
              "\n",
              "    .dataframe thead th {\n",
              "        text-align: right;\n",
              "    }\n",
              "</style>\n",
              "<table border=\"1\" class=\"dataframe\">\n",
              "  <thead>\n",
              "    <tr style=\"text-align: right;\">\n",
              "      <th></th>\n",
              "      <th>FWHM_n</th>\n",
              "      <th>A</th>\n",
              "      <th>B</th>\n",
              "      <th>r_auto</th>\n",
              "    </tr>\n",
              "    <tr>\n",
              "      <th>class</th>\n",
              "      <th></th>\n",
              "      <th></th>\n",
              "      <th></th>\n",
              "      <th></th>\n",
              "    </tr>\n",
              "  </thead>\n",
              "  <tbody>\n",
              "    <tr>\n",
              "      <th>GALAXY</th>\n",
              "      <td>1.516924</td>\n",
              "      <td>1.519897</td>\n",
              "      <td>0.829550</td>\n",
              "      <td>0.724965</td>\n",
              "    </tr>\n",
              "    <tr>\n",
              "      <th>STAR</th>\n",
              "      <td>0.196149</td>\n",
              "      <td>0.339022</td>\n",
              "      <td>0.318185</td>\n",
              "      <td>0.989633</td>\n",
              "    </tr>\n",
              "  </tbody>\n",
              "</table>\n",
              "</div>"
            ],
            "text/plain": [
              "          FWHM_n         A         B    r_auto\n",
              "class                                         \n",
              "GALAXY  1.516924  1.519897  0.829550  0.724965\n",
              "STAR    0.196149  0.339022  0.318185  0.989633"
            ]
          },
          "metadata": {
            "tags": []
          },
          "execution_count": 31
        }
      ]
    },
    {
      "cell_type": "code",
      "metadata": {
        "id": "v30_r1j8SBj3",
        "colab_type": "code",
        "outputId": "1260f5e5-ac28-4f1e-8e1e-412ee4a4e855",
        "colab": {
          "base_uri": "https://localhost:8080/",
          "height": 197
        }
      },
      "source": [
        "filtro = data[['FWHM_n', 'A', 'B', 'class']]\n",
        "filtro.head()"
      ],
      "execution_count": 0,
      "outputs": [
        {
          "output_type": "execute_result",
          "data": {
            "text/html": [
              "<div>\n",
              "<style scoped>\n",
              "    .dataframe tbody tr th:only-of-type {\n",
              "        vertical-align: middle;\n",
              "    }\n",
              "\n",
              "    .dataframe tbody tr th {\n",
              "        vertical-align: top;\n",
              "    }\n",
              "\n",
              "    .dataframe thead th {\n",
              "        text-align: right;\n",
              "    }\n",
              "</style>\n",
              "<table border=\"1\" class=\"dataframe\">\n",
              "  <thead>\n",
              "    <tr style=\"text-align: right;\">\n",
              "      <th></th>\n",
              "      <th>FWHM_n</th>\n",
              "      <th>A</th>\n",
              "      <th>B</th>\n",
              "      <th>class</th>\n",
              "    </tr>\n",
              "  </thead>\n",
              "  <tbody>\n",
              "    <tr>\n",
              "      <th>0</th>\n",
              "      <td>2.64</td>\n",
              "      <td>3.08</td>\n",
              "      <td>2.40</td>\n",
              "      <td>GALAXY</td>\n",
              "    </tr>\n",
              "    <tr>\n",
              "      <th>1</th>\n",
              "      <td>2.19</td>\n",
              "      <td>4.50</td>\n",
              "      <td>4.30</td>\n",
              "      <td>GALAXY</td>\n",
              "    </tr>\n",
              "    <tr>\n",
              "      <th>2</th>\n",
              "      <td>2.13</td>\n",
              "      <td>2.79</td>\n",
              "      <td>2.70</td>\n",
              "      <td>GALAXY</td>\n",
              "    </tr>\n",
              "    <tr>\n",
              "      <th>3</th>\n",
              "      <td>2.33</td>\n",
              "      <td>4.29</td>\n",
              "      <td>2.48</td>\n",
              "      <td>GALAXY</td>\n",
              "    </tr>\n",
              "    <tr>\n",
              "      <th>4</th>\n",
              "      <td>1.96</td>\n",
              "      <td>2.58</td>\n",
              "      <td>2.52</td>\n",
              "      <td>GALAXY</td>\n",
              "    </tr>\n",
              "  </tbody>\n",
              "</table>\n",
              "</div>"
            ],
            "text/plain": [
              "   FWHM_n     A     B   class\n",
              "0    2.64  3.08  2.40  GALAXY\n",
              "1    2.19  4.50  4.30  GALAXY\n",
              "2    2.13  2.79  2.70  GALAXY\n",
              "3    2.33  4.29  2.48  GALAXY\n",
              "4    1.96  2.58  2.52  GALAXY"
            ]
          },
          "metadata": {
            "tags": []
          },
          "execution_count": 50
        }
      ]
    },
    {
      "cell_type": "code",
      "metadata": {
        "id": "pRhEgHtCWYbk",
        "colab_type": "code",
        "outputId": "6915a2ef-e4ed-47fb-e313-8358928470f7",
        "colab": {
          "base_uri": "https://localhost:8080/",
          "height": 370
        }
      },
      "source": [
        "filtro.hist()"
      ],
      "execution_count": 0,
      "outputs": [
        {
          "output_type": "execute_result",
          "data": {
            "text/plain": [
              "array([[<matplotlib.axes._subplots.AxesSubplot object at 0x7fbbfb70fa20>,\n",
              "        <matplotlib.axes._subplots.AxesSubplot object at 0x7fbbfb9be550>],\n",
              "       [<matplotlib.axes._subplots.AxesSubplot object at 0x7fbbfb7ea7b8>,\n",
              "        <matplotlib.axes._subplots.AxesSubplot object at 0x7fbbfb6e4a20>]],\n",
              "      dtype=object)"
            ]
          },
          "metadata": {
            "tags": []
          },
          "execution_count": 51
        },
        {
          "output_type": "display_data",
          "data": {
            "image/png": "[encoded data removed]",
            "text/plain": [
              "<Figure size 432x288 with 4 Axes>"
            ]
          },
          "metadata": {
            "tags": []
          }
        }
      ]
    },
    {
      "cell_type": "code",
      "metadata": {
        "id": "gAsTGjt9Sk8L",
        "colab_type": "code",
        "outputId": "010ea306-0525-4eb4-89a4-a7f72bdeadea",
        "colab": {
          "base_uri": "https://localhost:8080/",
          "height": 567
        }
      },
      "source": [
        "sns.pairplot(filtro, hue = 'class')"
      ],
      "execution_count": 0,
      "outputs": [
        {
          "output_type": "execute_result",
          "data": {
            "text/plain": [
              "<seaborn.axisgrid.PairGrid at 0x7fbbf8a82518>"
            ]
          },
          "metadata": {
            "tags": []
          },
          "execution_count": 52
        },
        {
          "output_type": "display_data",
          "data": {
            "image/png": "[encoded data removed]",
            "text/plain": [
              "<Figure size 615.875x540 with 12 Axes>"
            ]
          },
          "metadata": {
            "tags": []
          }
        }
      ]
    },
    {
      "cell_type": "code",
      "metadata": {
        "id": "j-QjtMxaTRFn",
        "colab_type": "code",
        "outputId": "98b49372-939e-4d01-aba7-240b1ea40bb6",
        "colab": {
          "base_uri": "https://localhost:8080/",
          "height": 137
        }
      },
      "source": [
        "filtro.corr()"
      ],
      "execution_count": 0,
      "outputs": [
        {
          "output_type": "execute_result",
          "data": {
            "text/html": [
              "<div>\n",
              "<style scoped>\n",
              "    .dataframe tbody tr th:only-of-type {\n",
              "        vertical-align: middle;\n",
              "    }\n",
              "\n",
              "    .dataframe tbody tr th {\n",
              "        vertical-align: top;\n",
              "    }\n",
              "\n",
              "    .dataframe thead th {\n",
              "        text-align: right;\n",
              "    }\n",
              "</style>\n",
              "<table border=\"1\" class=\"dataframe\">\n",
              "  <thead>\n",
              "    <tr style=\"text-align: right;\">\n",
              "      <th></th>\n",
              "      <th>FWHM_n</th>\n",
              "      <th>A</th>\n",
              "      <th>B</th>\n",
              "    </tr>\n",
              "  </thead>\n",
              "  <tbody>\n",
              "    <tr>\n",
              "      <th>FWHM_n</th>\n",
              "      <td>1.000000</td>\n",
              "      <td>0.839555</td>\n",
              "      <td>0.512291</td>\n",
              "    </tr>\n",
              "    <tr>\n",
              "      <th>A</th>\n",
              "      <td>0.839555</td>\n",
              "      <td>1.000000</td>\n",
              "      <td>0.730396</td>\n",
              "    </tr>\n",
              "    <tr>\n",
              "      <th>B</th>\n",
              "      <td>0.512291</td>\n",
              "      <td>0.730396</td>\n",
              "      <td>1.000000</td>\n",
              "    </tr>\n",
              "  </tbody>\n",
              "</table>\n",
              "</div>"
            ],
            "text/plain": [
              "          FWHM_n         A         B\n",
              "FWHM_n  1.000000  0.839555  0.512291\n",
              "A       0.839555  1.000000  0.730396\n",
              "B       0.512291  0.730396  1.000000"
            ]
          },
          "metadata": {
            "tags": []
          },
          "execution_count": 36
        }
      ]
    },
    {
      "cell_type": "code",
      "metadata": {
        "id": "cdhm1xSkTcfR",
        "colab_type": "code",
        "outputId": "f6f86344-43f9-486c-9ede-3c59afd5a66e",
        "colab": {
          "base_uri": "https://localhost:8080/",
          "height": 287
        }
      },
      "source": [
        "sns.heatmap(filtro.corr(), cmap='bwr', vmax=1, vmin=-1,center=0, square=True, annot=True)"
      ],
      "execution_count": 0,
      "outputs": [
        {
          "output_type": "execute_result",
          "data": {
            "text/plain": [
              "<matplotlib.axes._subplots.AxesSubplot at 0x7fbbf842c358>"
            ]
          },
          "metadata": {
            "tags": []
          },
          "execution_count": 37
        },
        {
          "output_type": "display_data",
          "data": {
            "image/png": "[encoded data removed]",
            "text/plain": [
              "<Figure size 432x288 with 2 Axes>"
            ]
          },
          "metadata": {
            "tags": []
          }
        }
      ]
    },
    {
      "cell_type": "code",
      "metadata": {
        "id": "-drtXhARTwe5",
        "colab_type": "code",
        "colab": {}
      },
      "source": [
        "#x_train, x_test, y_train, y_test = train_test_split(iris, target, test_size = 0.3, random_state = 2)\n",
        "x_train, x_test, y_train, y_test = train_test_split(data, filtro, test_size = 0.25, random_state = 2)"
      ],
      "execution_count": 0,
      "outputs": []
    },
    {
      "cell_type": "code",
      "metadata": {
        "id": "eC47oh3PUvZC",
        "colab_type": "code",
        "outputId": "11859cb7-fd03-4cfc-a3ac-70c3a5a4acce",
        "colab": {
          "base_uri": "https://localhost:8080/",
          "height": 301
        }
      },
      "source": [
        "x_train.head()"
      ],
      "execution_count": 0,
      "outputs": [
        {
          "output_type": "execute_result",
          "data": {
            "text/html": [
              "<div>\n",
              "<style scoped>\n",
              "    .dataframe tbody tr th:only-of-type {\n",
              "        vertical-align: middle;\n",
              "    }\n",
              "\n",
              "    .dataframe tbody tr th {\n",
              "        vertical-align: top;\n",
              "    }\n",
              "\n",
              "    .dataframe thead th {\n",
              "        text-align: right;\n",
              "    }\n",
              "</style>\n",
              "<table border=\"1\" class=\"dataframe\">\n",
              "  <thead>\n",
              "    <tr style=\"text-align: right;\">\n",
              "      <th></th>\n",
              "      <th>FIELD</th>\n",
              "      <th>ID</th>\n",
              "      <th>RA_1</th>\n",
              "      <th>Dec_1</th>\n",
              "      <th>FWHM_n</th>\n",
              "      <th>A</th>\n",
              "      <th>B</th>\n",
              "      <th>KrRadDet</th>\n",
              "      <th>uJAVA_auto</th>\n",
              "      <th>F378_auto</th>\n",
              "      <th>F395_auto</th>\n",
              "      <th>F410_auto</th>\n",
              "      <th>F430_auto</th>\n",
              "      <th>g_auto</th>\n",
              "      <th>F515_auto</th>\n",
              "      <th>r_auto</th>\n",
              "      <th>F660_auto</th>\n",
              "      <th>i_auto</th>\n",
              "      <th>F861_auto</th>\n",
              "      <th>z_auto</th>\n",
              "      <th>class</th>\n",
              "    </tr>\n",
              "  </thead>\n",
              "  <tbody>\n",
              "    <tr>\n",
              "      <th>2753</th>\n",
              "      <td>STRIPE82-0116</td>\n",
              "      <td>SPLUS.STRIPE82-0116.18627.griz</td>\n",
              "      <td>320.0374</td>\n",
              "      <td>0.5269</td>\n",
              "      <td>2.40</td>\n",
              "      <td>3.00</td>\n",
              "      <td>2.57</td>\n",
              "      <td>1.03</td>\n",
              "      <td>20.82</td>\n",
              "      <td>20.85</td>\n",
              "      <td>20.03</td>\n",
              "      <td>20.96</td>\n",
              "      <td>20.27</td>\n",
              "      <td>19.78</td>\n",
              "      <td>19.37</td>\n",
              "      <td>19.08</td>\n",
              "      <td>19.04</td>\n",
              "      <td>18.76</td>\n",
              "      <td>18.59</td>\n",
              "      <td>18.54</td>\n",
              "      <td>GALAXY</td>\n",
              "    </tr>\n",
              "    <tr>\n",
              "      <th>2824</th>\n",
              "      <td>STRIPE82-0006</td>\n",
              "      <td>SPLUS.STRIPE82-0006.00899.griz</td>\n",
              "      <td>3.3445</td>\n",
              "      <td>0.0907</td>\n",
              "      <td>3.24</td>\n",
              "      <td>4.17</td>\n",
              "      <td>3.54</td>\n",
              "      <td>1.57</td>\n",
              "      <td>18.91</td>\n",
              "      <td>18.86</td>\n",
              "      <td>18.36</td>\n",
              "      <td>18.09</td>\n",
              "      <td>17.86</td>\n",
              "      <td>17.76</td>\n",
              "      <td>17.52</td>\n",
              "      <td>17.13</td>\n",
              "      <td>17.10</td>\n",
              "      <td>16.90</td>\n",
              "      <td>16.80</td>\n",
              "      <td>16.75</td>\n",
              "      <td>GALAXY</td>\n",
              "    </tr>\n",
              "    <tr>\n",
              "      <th>2597</th>\n",
              "      <td>STRIPE82-0017</td>\n",
              "      <td>SPLUS.STRIPE82-0017.22620.griz</td>\n",
              "      <td>11.5048</td>\n",
              "      <td>-0.3258</td>\n",
              "      <td>1.83</td>\n",
              "      <td>3.89</td>\n",
              "      <td>2.80</td>\n",
              "      <td>1.40</td>\n",
              "      <td>20.82</td>\n",
              "      <td>20.70</td>\n",
              "      <td>20.11</td>\n",
              "      <td>19.94</td>\n",
              "      <td>19.97</td>\n",
              "      <td>18.98</td>\n",
              "      <td>18.55</td>\n",
              "      <td>18.07</td>\n",
              "      <td>17.88</td>\n",
              "      <td>17.57</td>\n",
              "      <td>17.38</td>\n",
              "      <td>17.26</td>\n",
              "      <td>GALAXY</td>\n",
              "    </tr>\n",
              "    <tr>\n",
              "      <th>3973</th>\n",
              "      <td>STRIPE82-0113</td>\n",
              "      <td>SPLUS.STRIPE82-0113.33652.griz</td>\n",
              "      <td>319.0654</td>\n",
              "      <td>-0.5722</td>\n",
              "      <td>1.36</td>\n",
              "      <td>3.07</td>\n",
              "      <td>2.86</td>\n",
              "      <td>1.53</td>\n",
              "      <td>20.01</td>\n",
              "      <td>19.93</td>\n",
              "      <td>19.84</td>\n",
              "      <td>19.64</td>\n",
              "      <td>19.22</td>\n",
              "      <td>18.77</td>\n",
              "      <td>18.55</td>\n",
              "      <td>18.09</td>\n",
              "      <td>17.93</td>\n",
              "      <td>17.70</td>\n",
              "      <td>17.54</td>\n",
              "      <td>17.51</td>\n",
              "      <td>GALAXY</td>\n",
              "    </tr>\n",
              "    <tr>\n",
              "      <th>3335</th>\n",
              "      <td>STRIPE82-0004</td>\n",
              "      <td>SPLUS.STRIPE82-0004.11996.griz</td>\n",
              "      <td>1.0136</td>\n",
              "      <td>0.6456</td>\n",
              "      <td>10.06</td>\n",
              "      <td>8.01</td>\n",
              "      <td>2.10</td>\n",
              "      <td>1.43</td>\n",
              "      <td>20.01</td>\n",
              "      <td>19.68</td>\n",
              "      <td>19.42</td>\n",
              "      <td>19.24</td>\n",
              "      <td>18.74</td>\n",
              "      <td>18.39</td>\n",
              "      <td>18.18</td>\n",
              "      <td>17.73</td>\n",
              "      <td>17.59</td>\n",
              "      <td>17.34</td>\n",
              "      <td>17.11</td>\n",
              "      <td>17.07</td>\n",
              "      <td>GALAXY</td>\n",
              "    </tr>\n",
              "  </tbody>\n",
              "</table>\n",
              "</div>"
            ],
            "text/plain": [
              "              FIELD                              ID  ...  z_auto   class\n",
              "2753  STRIPE82-0116  SPLUS.STRIPE82-0116.18627.griz  ...   18.54  GALAXY\n",
              "2824  STRIPE82-0006  SPLUS.STRIPE82-0006.00899.griz  ...   16.75  GALAXY\n",
              "2597  STRIPE82-0017  SPLUS.STRIPE82-0017.22620.griz  ...   17.26  GALAXY\n",
              "3973  STRIPE82-0113  SPLUS.STRIPE82-0113.33652.griz  ...   17.51  GALAXY\n",
              "3335  STRIPE82-0004  SPLUS.STRIPE82-0004.11996.griz  ...   17.07  GALAXY\n",
              "\n",
              "[5 rows x 21 columns]"
            ]
          },
          "metadata": {
            "tags": []
          },
          "execution_count": 46
        }
      ]
    },
    {
      "cell_type": "code",
      "metadata": {
        "id": "tX9lHEi1U2Um",
        "colab_type": "code",
        "outputId": "1356c950-29a8-4643-c641-162d3b8e6b8c",
        "colab": {
          "base_uri": "https://localhost:8080/",
          "height": 301
        }
      },
      "source": [
        "x_test.head()"
      ],
      "execution_count": 0,
      "outputs": [
        {
          "output_type": "execute_result",
          "data": {
            "text/html": [
              "<div>\n",
              "<style scoped>\n",
              "    .dataframe tbody tr th:only-of-type {\n",
              "        vertical-align: middle;\n",
              "    }\n",
              "\n",
              "    .dataframe tbody tr th {\n",
              "        vertical-align: top;\n",
              "    }\n",
              "\n",
              "    .dataframe thead th {\n",
              "        text-align: right;\n",
              "    }\n",
              "</style>\n",
              "<table border=\"1\" class=\"dataframe\">\n",
              "  <thead>\n",
              "    <tr style=\"text-align: right;\">\n",
              "      <th></th>\n",
              "      <th>FIELD</th>\n",
              "      <th>ID</th>\n",
              "      <th>RA_1</th>\n",
              "      <th>Dec_1</th>\n",
              "      <th>FWHM_n</th>\n",
              "      <th>A</th>\n",
              "      <th>B</th>\n",
              "      <th>KrRadDet</th>\n",
              "      <th>uJAVA_auto</th>\n",
              "      <th>F378_auto</th>\n",
              "      <th>F395_auto</th>\n",
              "      <th>F410_auto</th>\n",
              "      <th>F430_auto</th>\n",
              "      <th>g_auto</th>\n",
              "      <th>F515_auto</th>\n",
              "      <th>r_auto</th>\n",
              "      <th>F660_auto</th>\n",
              "      <th>i_auto</th>\n",
              "      <th>F861_auto</th>\n",
              "      <th>z_auto</th>\n",
              "      <th>class</th>\n",
              "    </tr>\n",
              "  </thead>\n",
              "  <tbody>\n",
              "    <tr>\n",
              "      <th>7878</th>\n",
              "      <td>STRIPE82-0035</td>\n",
              "      <td>SPLUS.STRIPE82-0035.20314.griz</td>\n",
              "      <td>23.7080</td>\n",
              "      <td>-0.3641</td>\n",
              "      <td>0.99</td>\n",
              "      <td>2.64</td>\n",
              "      <td>2.49</td>\n",
              "      <td>1.10</td>\n",
              "      <td>18.47</td>\n",
              "      <td>18.23</td>\n",
              "      <td>18.09</td>\n",
              "      <td>17.40</td>\n",
              "      <td>17.33</td>\n",
              "      <td>16.91</td>\n",
              "      <td>16.71</td>\n",
              "      <td>16.36</td>\n",
              "      <td>16.31</td>\n",
              "      <td>16.22</td>\n",
              "      <td>16.16</td>\n",
              "      <td>16.17</td>\n",
              "      <td>STAR</td>\n",
              "    </tr>\n",
              "    <tr>\n",
              "      <th>3224</th>\n",
              "      <td>STRIPE82-0055</td>\n",
              "      <td>SPLUS.STRIPE82-0055.27364.griz</td>\n",
              "      <td>38.5506</td>\n",
              "      <td>-0.6287</td>\n",
              "      <td>2.11</td>\n",
              "      <td>3.91</td>\n",
              "      <td>3.73</td>\n",
              "      <td>1.40</td>\n",
              "      <td>18.59</td>\n",
              "      <td>18.63</td>\n",
              "      <td>18.60</td>\n",
              "      <td>18.31</td>\n",
              "      <td>18.01</td>\n",
              "      <td>17.75</td>\n",
              "      <td>17.51</td>\n",
              "      <td>17.23</td>\n",
              "      <td>17.10</td>\n",
              "      <td>16.91</td>\n",
              "      <td>16.87</td>\n",
              "      <td>16.83</td>\n",
              "      <td>GALAXY</td>\n",
              "    </tr>\n",
              "    <tr>\n",
              "      <th>1919</th>\n",
              "      <td>STRIPE82-0135</td>\n",
              "      <td>SPLUS.STRIPE82-0135.05970.griz</td>\n",
              "      <td>335.0809</td>\n",
              "      <td>-1.1662</td>\n",
              "      <td>2.51</td>\n",
              "      <td>2.77</td>\n",
              "      <td>1.89</td>\n",
              "      <td>1.40</td>\n",
              "      <td>21.42</td>\n",
              "      <td>21.20</td>\n",
              "      <td>20.88</td>\n",
              "      <td>20.50</td>\n",
              "      <td>20.47</td>\n",
              "      <td>20.06</td>\n",
              "      <td>19.95</td>\n",
              "      <td>19.52</td>\n",
              "      <td>19.36</td>\n",
              "      <td>19.10</td>\n",
              "      <td>18.89</td>\n",
              "      <td>18.96</td>\n",
              "      <td>GALAXY</td>\n",
              "    </tr>\n",
              "    <tr>\n",
              "      <th>4432</th>\n",
              "      <td>STRIPE82-0063</td>\n",
              "      <td>SPLUS.STRIPE82-0063.19100.griz</td>\n",
              "      <td>44.0778</td>\n",
              "      <td>-0.2658</td>\n",
              "      <td>1.73</td>\n",
              "      <td>3.04</td>\n",
              "      <td>2.79</td>\n",
              "      <td>1.41</td>\n",
              "      <td>20.21</td>\n",
              "      <td>20.13</td>\n",
              "      <td>19.74</td>\n",
              "      <td>19.81</td>\n",
              "      <td>19.35</td>\n",
              "      <td>18.79</td>\n",
              "      <td>18.51</td>\n",
              "      <td>18.04</td>\n",
              "      <td>17.90</td>\n",
              "      <td>17.66</td>\n",
              "      <td>17.55</td>\n",
              "      <td>17.44</td>\n",
              "      <td>GALAXY</td>\n",
              "    </tr>\n",
              "    <tr>\n",
              "      <th>4835</th>\n",
              "      <td>STRIPE82-0164</td>\n",
              "      <td>SPLUS.STRIPE82-0164.39372.griz</td>\n",
              "      <td>353.9220</td>\n",
              "      <td>1.0522</td>\n",
              "      <td>5.44</td>\n",
              "      <td>5.56</td>\n",
              "      <td>2.42</td>\n",
              "      <td>1.31</td>\n",
              "      <td>20.45</td>\n",
              "      <td>20.29</td>\n",
              "      <td>20.19</td>\n",
              "      <td>19.32</td>\n",
              "      <td>19.48</td>\n",
              "      <td>18.99</td>\n",
              "      <td>18.67</td>\n",
              "      <td>18.28</td>\n",
              "      <td>18.09</td>\n",
              "      <td>17.87</td>\n",
              "      <td>17.68</td>\n",
              "      <td>17.63</td>\n",
              "      <td>GALAXY</td>\n",
              "    </tr>\n",
              "  </tbody>\n",
              "</table>\n",
              "</div>"
            ],
            "text/plain": [
              "              FIELD                              ID  ...  z_auto   class\n",
              "7878  STRIPE82-0035  SPLUS.STRIPE82-0035.20314.griz  ...   16.17    STAR\n",
              "3224  STRIPE82-0055  SPLUS.STRIPE82-0055.27364.griz  ...   16.83  GALAXY\n",
              "1919  STRIPE82-0135  SPLUS.STRIPE82-0135.05970.griz  ...   18.96  GALAXY\n",
              "4432  STRIPE82-0063  SPLUS.STRIPE82-0063.19100.griz  ...   17.44  GALAXY\n",
              "4835  STRIPE82-0164  SPLUS.STRIPE82-0164.39372.griz  ...   17.63  GALAXY\n",
              "\n",
              "[5 rows x 21 columns]"
            ]
          },
          "metadata": {
            "tags": []
          },
          "execution_count": 47
        }
      ]
    },
    {
      "cell_type": "code",
      "metadata": {
        "id": "aBhOb0UTU79h",
        "colab_type": "code",
        "colab": {}
      },
      "source": [
        "#dataset para validação de dados\n",
        "x_train1, x_test1, y_train1, y_test1 = train_test_split(x_train, y_train, test_size = 0.25, random_state = 2)"
      ],
      "execution_count": 0,
      "outputs": []
    },
    {
      "cell_type": "code",
      "metadata": {
        "id": "SgWn4udeWuv9",
        "colab_type": "code",
        "outputId": "0d6a7586-ebfa-4b57-938b-15a76b8e78a6",
        "colab": {
          "base_uri": "https://localhost:8080/",
          "height": 301
        }
      },
      "source": [
        "x_train1.head()"
      ],
      "execution_count": 0,
      "outputs": [
        {
          "output_type": "execute_result",
          "data": {
            "text/html": [
              "<div>\n",
              "<style scoped>\n",
              "    .dataframe tbody tr th:only-of-type {\n",
              "        vertical-align: middle;\n",
              "    }\n",
              "\n",
              "    .dataframe tbody tr th {\n",
              "        vertical-align: top;\n",
              "    }\n",
              "\n",
              "    .dataframe thead th {\n",
              "        text-align: right;\n",
              "    }\n",
              "</style>\n",
              "<table border=\"1\" class=\"dataframe\">\n",
              "  <thead>\n",
              "    <tr style=\"text-align: right;\">\n",
              "      <th></th>\n",
              "      <th>FIELD</th>\n",
              "      <th>ID</th>\n",
              "      <th>RA_1</th>\n",
              "      <th>Dec_1</th>\n",
              "      <th>FWHM_n</th>\n",
              "      <th>A</th>\n",
              "      <th>B</th>\n",
              "      <th>KrRadDet</th>\n",
              "      <th>uJAVA_auto</th>\n",
              "      <th>F378_auto</th>\n",
              "      <th>F395_auto</th>\n",
              "      <th>F410_auto</th>\n",
              "      <th>F430_auto</th>\n",
              "      <th>g_auto</th>\n",
              "      <th>F515_auto</th>\n",
              "      <th>r_auto</th>\n",
              "      <th>F660_auto</th>\n",
              "      <th>i_auto</th>\n",
              "      <th>F861_auto</th>\n",
              "      <th>z_auto</th>\n",
              "      <th>class</th>\n",
              "    </tr>\n",
              "  </thead>\n",
              "  <tbody>\n",
              "    <tr>\n",
              "      <th>7914</th>\n",
              "      <td>STRIPE82-0020</td>\n",
              "      <td>SPLUS.STRIPE82-0020.27738.griz</td>\n",
              "      <td>12.2181</td>\n",
              "      <td>0.8703</td>\n",
              "      <td>0.93</td>\n",
              "      <td>2.83</td>\n",
              "      <td>2.71</td>\n",
              "      <td>1.03</td>\n",
              "      <td>18.56</td>\n",
              "      <td>18.48</td>\n",
              "      <td>18.20</td>\n",
              "      <td>17.42</td>\n",
              "      <td>17.16</td>\n",
              "      <td>16.60</td>\n",
              "      <td>16.44</td>\n",
              "      <td>15.83</td>\n",
              "      <td>15.73</td>\n",
              "      <td>15.61</td>\n",
              "      <td>15.53</td>\n",
              "      <td>15.51</td>\n",
              "      <td>STAR</td>\n",
              "    </tr>\n",
              "    <tr>\n",
              "      <th>8546</th>\n",
              "      <td>STRIPE82-0102</td>\n",
              "      <td>SPLUS.STRIPE82-0102.60626.griz</td>\n",
              "      <td>310.3478</td>\n",
              "      <td>0.8913</td>\n",
              "      <td>0.97</td>\n",
              "      <td>1.85</td>\n",
              "      <td>1.68</td>\n",
              "      <td>1.06</td>\n",
              "      <td>20.17</td>\n",
              "      <td>19.78</td>\n",
              "      <td>19.57</td>\n",
              "      <td>19.02</td>\n",
              "      <td>18.95</td>\n",
              "      <td>18.51</td>\n",
              "      <td>18.28</td>\n",
              "      <td>17.94</td>\n",
              "      <td>17.79</td>\n",
              "      <td>17.67</td>\n",
              "      <td>17.63</td>\n",
              "      <td>17.63</td>\n",
              "      <td>STAR</td>\n",
              "    </tr>\n",
              "    <tr>\n",
              "      <th>2070</th>\n",
              "      <td>STRIPE82-0032</td>\n",
              "      <td>SPLUS.STRIPE82-0032.13636.griz</td>\n",
              "      <td>21.2257</td>\n",
              "      <td>0.6562</td>\n",
              "      <td>1.62</td>\n",
              "      <td>4.30</td>\n",
              "      <td>4.02</td>\n",
              "      <td>1.27</td>\n",
              "      <td>19.22</td>\n",
              "      <td>18.95</td>\n",
              "      <td>18.86</td>\n",
              "      <td>18.53</td>\n",
              "      <td>18.15</td>\n",
              "      <td>17.78</td>\n",
              "      <td>17.47</td>\n",
              "      <td>17.06</td>\n",
              "      <td>16.89</td>\n",
              "      <td>16.64</td>\n",
              "      <td>16.46</td>\n",
              "      <td>16.40</td>\n",
              "      <td>GALAXY</td>\n",
              "    </tr>\n",
              "    <tr>\n",
              "      <th>5472</th>\n",
              "      <td>STRIPE82-0023</td>\n",
              "      <td>SPLUS.STRIPE82-0023.05093.griz</td>\n",
              "      <td>15.0026</td>\n",
              "      <td>-1.1399</td>\n",
              "      <td>1.02</td>\n",
              "      <td>2.12</td>\n",
              "      <td>2.10</td>\n",
              "      <td>1.08</td>\n",
              "      <td>19.25</td>\n",
              "      <td>19.09</td>\n",
              "      <td>19.03</td>\n",
              "      <td>18.34</td>\n",
              "      <td>18.20</td>\n",
              "      <td>17.76</td>\n",
              "      <td>17.57</td>\n",
              "      <td>17.18</td>\n",
              "      <td>17.12</td>\n",
              "      <td>16.97</td>\n",
              "      <td>16.92</td>\n",
              "      <td>16.88</td>\n",
              "      <td>STAR</td>\n",
              "    </tr>\n",
              "    <tr>\n",
              "      <th>3808</th>\n",
              "      <td>STRIPE82-0012</td>\n",
              "      <td>SPLUS.STRIPE82-0012.14793.griz</td>\n",
              "      <td>7.7191</td>\n",
              "      <td>0.6229</td>\n",
              "      <td>1.56</td>\n",
              "      <td>3.25</td>\n",
              "      <td>2.48</td>\n",
              "      <td>1.33</td>\n",
              "      <td>20.03</td>\n",
              "      <td>20.05</td>\n",
              "      <td>19.81</td>\n",
              "      <td>19.73</td>\n",
              "      <td>19.44</td>\n",
              "      <td>18.97</td>\n",
              "      <td>18.64</td>\n",
              "      <td>18.30</td>\n",
              "      <td>18.16</td>\n",
              "      <td>17.92</td>\n",
              "      <td>17.76</td>\n",
              "      <td>17.75</td>\n",
              "      <td>GALAXY</td>\n",
              "    </tr>\n",
              "  </tbody>\n",
              "</table>\n",
              "</div>"
            ],
            "text/plain": [
              "              FIELD                              ID  ...  z_auto   class\n",
              "7914  STRIPE82-0020  SPLUS.STRIPE82-0020.27738.griz  ...   15.51    STAR\n",
              "8546  STRIPE82-0102  SPLUS.STRIPE82-0102.60626.griz  ...   17.63    STAR\n",
              "2070  STRIPE82-0032  SPLUS.STRIPE82-0032.13636.griz  ...   16.40  GALAXY\n",
              "5472  STRIPE82-0023  SPLUS.STRIPE82-0023.05093.griz  ...   16.88    STAR\n",
              "3808  STRIPE82-0012  SPLUS.STRIPE82-0012.14793.griz  ...   17.75  GALAXY\n",
              "\n",
              "[5 rows x 21 columns]"
            ]
          },
          "metadata": {
            "tags": []
          },
          "execution_count": 54
        }
      ]
    },
    {
      "cell_type": "code",
      "metadata": {
        "id": "-Zsq9F_rXQWe",
        "colab_type": "code",
        "outputId": "4a7a5cb4-2e57-454d-e999-bf08dfe42adb",
        "colab": {
          "base_uri": "https://localhost:8080/",
          "height": 334
        }
      },
      "source": [
        "model = SVC(kernel='linear')\n",
        "model.fit(x_train, y_train.values.ravel())"
      ],
      "execution_count": 0,
      "outputs": [
        {
          "output_type": "error",
          "ename": "ValueError",
          "evalue": "ignored",
          "traceback": [
            "\u001b[0;31m---------------------------------------------------------------------------\u001b[0m",
            "\u001b[0;31mValueError\u001b[0m                                Traceback (most recent call last)",
            "\u001b[0;32m<ipython-input-58-7a9300d9a613>\u001b[0m in \u001b[0;36m<module>\u001b[0;34m()\u001b[0m\n\u001b[1;32m      1\u001b[0m \u001b[0mmodel\u001b[0m \u001b[0;34m=\u001b[0m \u001b[0mSVC\u001b[0m\u001b[0;34m(\u001b[0m\u001b[0mkernel\u001b[0m\u001b[0;34m=\u001b[0m\u001b[0;34m'linear'\u001b[0m\u001b[0;34m)\u001b[0m\u001b[0;34m\u001b[0m\u001b[0;34m\u001b[0m\u001b[0m\n\u001b[0;32m----> 2\u001b[0;31m \u001b[0mmodel\u001b[0m\u001b[0;34m.\u001b[0m\u001b[0mfit\u001b[0m\u001b[0;34m(\u001b[0m\u001b[0mx_train\u001b[0m\u001b[0;34m,\u001b[0m \u001b[0my_train\u001b[0m\u001b[0;34m.\u001b[0m\u001b[0mvalues\u001b[0m\u001b[0;34m.\u001b[0m\u001b[0mravel\u001b[0m\u001b[0;34m(\u001b[0m\u001b[0;34m)\u001b[0m\u001b[0;34m)\u001b[0m\u001b[0;34m\u001b[0m\u001b[0;34m\u001b[0m\u001b[0m\n\u001b[0m",
            "\u001b[0;32m/usr/local/lib/python3.6/dist-packages/sklearn/svm/base.py\u001b[0m in \u001b[0;36mfit\u001b[0;34m(self, X, y, sample_weight)\u001b[0m\n\u001b[1;32m    144\u001b[0m         X, y = check_X_y(X, y, dtype=np.float64,\n\u001b[1;32m    145\u001b[0m                          \u001b[0morder\u001b[0m\u001b[0;34m=\u001b[0m\u001b[0;34m'C'\u001b[0m\u001b[0;34m,\u001b[0m \u001b[0maccept_sparse\u001b[0m\u001b[0;34m=\u001b[0m\u001b[0;34m'csr'\u001b[0m\u001b[0;34m,\u001b[0m\u001b[0;34m\u001b[0m\u001b[0;34m\u001b[0m\u001b[0m\n\u001b[0;32m--> 146\u001b[0;31m                          accept_large_sparse=False)\n\u001b[0m\u001b[1;32m    147\u001b[0m         \u001b[0my\u001b[0m \u001b[0;34m=\u001b[0m \u001b[0mself\u001b[0m\u001b[0;34m.\u001b[0m\u001b[0m_validate_targets\u001b[0m\u001b[0;34m(\u001b[0m\u001b[0my\u001b[0m\u001b[0;34m)\u001b[0m\u001b[0;34m\u001b[0m\u001b[0;34m\u001b[0m\u001b[0m\n\u001b[1;32m    148\u001b[0m \u001b[0;34m\u001b[0m\u001b[0m\n",
            "\u001b[0;32m/usr/local/lib/python3.6/dist-packages/sklearn/utils/validation.py\u001b[0m in \u001b[0;36mcheck_X_y\u001b[0;34m(X, y, accept_sparse, accept_large_sparse, dtype, order, copy, force_all_finite, ensure_2d, allow_nd, multi_output, ensure_min_samples, ensure_min_features, y_numeric, warn_on_dtype, estimator)\u001b[0m\n\u001b[1;32m    717\u001b[0m                     \u001b[0mensure_min_features\u001b[0m\u001b[0;34m=\u001b[0m\u001b[0mensure_min_features\u001b[0m\u001b[0;34m,\u001b[0m\u001b[0;34m\u001b[0m\u001b[0;34m\u001b[0m\u001b[0m\n\u001b[1;32m    718\u001b[0m                     \u001b[0mwarn_on_dtype\u001b[0m\u001b[0;34m=\u001b[0m\u001b[0mwarn_on_dtype\u001b[0m\u001b[0;34m,\u001b[0m\u001b[0;34m\u001b[0m\u001b[0;34m\u001b[0m\u001b[0m\n\u001b[0;32m--> 719\u001b[0;31m                     estimator=estimator)\n\u001b[0m\u001b[1;32m    720\u001b[0m     \u001b[0;32mif\u001b[0m \u001b[0mmulti_output\u001b[0m\u001b[0;34m:\u001b[0m\u001b[0;34m\u001b[0m\u001b[0;34m\u001b[0m\u001b[0m\n\u001b[1;32m    721\u001b[0m         y = check_array(y, 'csr', force_all_finite=True, ensure_2d=False,\n",
            "\u001b[0;32m/usr/local/lib/python3.6/dist-packages/sklearn/utils/validation.py\u001b[0m in \u001b[0;36mcheck_array\u001b[0;34m(array, accept_sparse, accept_large_sparse, dtype, order, copy, force_all_finite, ensure_2d, allow_nd, ensure_min_samples, ensure_min_features, warn_on_dtype, estimator)\u001b[0m\n\u001b[1;32m    494\u001b[0m             \u001b[0;32mtry\u001b[0m\u001b[0;34m:\u001b[0m\u001b[0;34m\u001b[0m\u001b[0;34m\u001b[0m\u001b[0m\n\u001b[1;32m    495\u001b[0m                 \u001b[0mwarnings\u001b[0m\u001b[0;34m.\u001b[0m\u001b[0msimplefilter\u001b[0m\u001b[0;34m(\u001b[0m\u001b[0;34m'error'\u001b[0m\u001b[0;34m,\u001b[0m \u001b[0mComplexWarning\u001b[0m\u001b[0;34m)\u001b[0m\u001b[0;34m\u001b[0m\u001b[0;34m\u001b[0m\u001b[0m\n\u001b[0;32m--> 496\u001b[0;31m                 \u001b[0marray\u001b[0m \u001b[0;34m=\u001b[0m \u001b[0mnp\u001b[0m\u001b[0;34m.\u001b[0m\u001b[0masarray\u001b[0m\u001b[0;34m(\u001b[0m\u001b[0marray\u001b[0m\u001b[0;34m,\u001b[0m \u001b[0mdtype\u001b[0m\u001b[0;34m=\u001b[0m\u001b[0mdtype\u001b[0m\u001b[0;34m,\u001b[0m \u001b[0morder\u001b[0m\u001b[0;34m=\u001b[0m\u001b[0morder\u001b[0m\u001b[0;34m)\u001b[0m\u001b[0;34m\u001b[0m\u001b[0;34m\u001b[0m\u001b[0m\n\u001b[0m\u001b[1;32m    497\u001b[0m             \u001b[0;32mexcept\u001b[0m \u001b[0mComplexWarning\u001b[0m\u001b[0;34m:\u001b[0m\u001b[0;34m\u001b[0m\u001b[0;34m\u001b[0m\u001b[0m\n\u001b[1;32m    498\u001b[0m                 raise ValueError(\"Complex data not supported\\n\"\n",
            "\u001b[0;32m/usr/local/lib/python3.6/dist-packages/numpy/core/numeric.py\u001b[0m in \u001b[0;36masarray\u001b[0;34m(a, dtype, order)\u001b[0m\n\u001b[1;32m    536\u001b[0m \u001b[0;34m\u001b[0m\u001b[0m\n\u001b[1;32m    537\u001b[0m     \"\"\"\n\u001b[0;32m--> 538\u001b[0;31m     \u001b[0;32mreturn\u001b[0m \u001b[0marray\u001b[0m\u001b[0;34m(\u001b[0m\u001b[0ma\u001b[0m\u001b[0;34m,\u001b[0m \u001b[0mdtype\u001b[0m\u001b[0;34m,\u001b[0m \u001b[0mcopy\u001b[0m\u001b[0;34m=\u001b[0m\u001b[0;32mFalse\u001b[0m\u001b[0;34m,\u001b[0m \u001b[0morder\u001b[0m\u001b[0;34m=\u001b[0m\u001b[0morder\u001b[0m\u001b[0;34m)\u001b[0m\u001b[0;34m\u001b[0m\u001b[0;34m\u001b[0m\u001b[0m\n\u001b[0m\u001b[1;32m    539\u001b[0m \u001b[0;34m\u001b[0m\u001b[0m\n\u001b[1;32m    540\u001b[0m \u001b[0;34m\u001b[0m\u001b[0m\n",
            "\u001b[0;31mValueError\u001b[0m: could not convert string to float: 'STAR'"
          ]
        }
      ]
    }
  ]
}